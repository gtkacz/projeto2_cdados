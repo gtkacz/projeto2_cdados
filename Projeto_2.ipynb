{
 "cells": [
  {
   "cell_type": "code",
   "execution_count": null,
   "metadata": {},
   "outputs": [],
   "source": [
    "import pandas as pd \n",
    "import numpy as np\n",
    "import matplotlib.pyplot as plt"
   ]
  },
  {
   "cell_type": "code",
   "execution_count": null,
   "metadata": {},
   "outputs": [],
   "source": [
    "treino=pd.read_csv(\"poker-hand-training-true.data\",header=None)\n",
    "teste=pd.read_csv(\"poker-hand-testing.data\",header=None)\n",
    "coluna=['Naipe carta (1)','Valor carta (1)','Naipe carta (2)','Valor carta (2)','Naipe carta (3)','Valor carta (3)','Naipe carta (4)','Valor carta (4)','Naipe carta (5)','Valor carta 5','Poker Hand']\n",
    "treino.columns=col\n",
    "teste.columns=col"
   ]
  }
 ],
 "metadata": {
  "kernelspec": {
   "display_name": "Python 3",
   "language": "python",
   "name": "python3"
  },
  "language_info": {
   "codemirror_mode": {
    "name": "ipython",
    "version": 3
   },
   "file_extension": ".py",
   "mimetype": "text/x-python",
   "name": "python",
   "nbconvert_exporter": "python",
   "pygments_lexer": "ipython3",
   "version": "3.7.4"
  }
 },
 "nbformat": 4,
 "nbformat_minor": 2
}
